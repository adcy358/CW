{
 "cells": [
  {
   "cell_type": "markdown",
   "metadata": {},
   "source": [
    "# Task 1 - Statistical analysis "
   ]
  },
  {
   "cell_type": "markdown",
   "metadata": {},
   "source": [
    "In this part of the task, we are asked to plan and implement a statistical analysis to characterize the length of the shortest path in dependence on several of the grid's parameters. \n",
    "\n",
    "The relevant parameters are: \n",
    "- the grid's size\n",
    "- the distribution from which cell numbers are generated."
   ]
  },
  {
   "cell_type": "code",
   "execution_count": null,
   "metadata": {},
   "outputs": [],
   "source": []
  }
 ],
 "metadata": {
  "kernelspec": {
   "display_name": "Python 3 (ipykernel)",
   "language": "python",
   "name": "python3"
  },
  "language_info": {
   "codemirror_mode": {
    "name": "ipython",
    "version": 3
   },
   "file_extension": ".py",
   "mimetype": "text/x-python",
   "name": "python",
   "nbconvert_exporter": "python",
   "pygments_lexer": "ipython3",
   "version": "3.9.12"
  },
  "vscode": {
   "interpreter": {
    "hash": "787e3d224f1aec63c289773db315bb031e1fbf54f3ecde4d6e82ed880810c58f"
   }
  }
 },
 "nbformat": 4,
 "nbformat_minor": 2
}
