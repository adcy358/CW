{
 "cells": [
  {
   "cell_type": "markdown",
   "metadata": {},
   "source": [
    "# Task 1 - Statistical analysis "
   ]
  },
  {
   "cell_type": "markdown",
   "metadata": {},
   "source": [
    "In this part of the task, we are asked to plan and implement a statistical analysis to characterize the length of the shortest path in dependence on several of the grid's parameters. \n",
    "\n",
    "The relevant parameters are: \n",
    "- the grid's size\n",
    "- the distribution from which cell numbers are generated.\n",
    "\n",
    "We will analyze these parameters separately and see what conclusions can be drawn from the results."
   ]
  },
  {
   "cell_type": "markdown",
   "metadata": {},
   "source": [
    "## 1. Grid's size"
   ]
  },
  {
   "cell_type": "markdown",
   "metadata": {},
   "source": [
    "First, we import useful packages. "
   ]
  },
  {
   "cell_type": "code",
   "execution_count": 19,
   "metadata": {},
   "outputs": [],
   "source": [
    "from Implementation import Grid\n",
    "from Strategies import Shortest_Path\n",
    "import random\n",
    "import sys\n",
    "import time"
   ]
  },
  {
   "cell_type": "code",
   "execution_count": 23,
   "metadata": {},
   "outputs": [
    {
     "name": "stdout",
     "output_type": "stream",
     "text": [
      "[[8. 6. 7.]\n",
      " [6. 0. 0.]\n",
      " [3. 3. 7.]]\n"
     ]
    }
   ],
   "source": [
    "#We create an instant of the class Shortest_Path\n",
    "game = Shortest_Path(3, 3)\n",
    "\n",
    "#generate grid\n",
    "grid = game.generate_grid(random.randint(0, 1000))\n",
    "print(grid)"
   ]
  },
  {
   "cell_type": "code",
   "execution_count": 24,
   "metadata": {},
   "outputs": [
    {
     "name": "stdout",
     "output_type": "stream",
     "text": [
      "Shortest path: \n",
      "{'node_00': 8.0, 'node_01': 14.0, 'node_02': 21.0, 'node_10': 14.0, 'node_11': 14.0, 'node_12': 14.0, 'node_20': 17.0, 'node_21': 17.0, 'node_22': 21.0}\n",
      "\n",
      "Previous nodes:\n",
      "{'node_10': 'node_00', 'node_01': 'node_00', 'node_11': 'node_01', 'node_02': 'node_01', 'node_20': 'node_10', 'node_21': 'node_11', 'node_12': 'node_11', 'node_22': 'node_12'}\n",
      "\n",
      "Timestep: \n",
      "21.0\n",
      "elapsed time:  0.0006639957427978516\n"
     ]
    }
   ],
   "source": [
    "#we use the the dijkstra_algorithm method\n",
    "start = time.time()\n",
    "shortest_path, timestep, previous_nodes = game.dijkstra_algorithm(grid)\n",
    "end = time.time()\n",
    "\n",
    "print('Shortest path: ')\n",
    "print(shortest_path)\n",
    "print('')\n",
    "print('Previous nodes:')\n",
    "print(previous_nodes)\n",
    "print('')\n",
    "print('Timestep: ')\n",
    "\n",
    "print(timestep)\n",
    "print('elapsed time: ', end - start)"
   ]
  },
  {
   "cell_type": "code",
   "execution_count": null,
   "metadata": {},
   "outputs": [],
   "source": []
  }
 ],
 "metadata": {
  "kernelspec": {
   "display_name": "Python 3 (ipykernel)",
   "language": "python",
   "name": "python3"
  },
  "language_info": {
   "codemirror_mode": {
    "name": "ipython",
    "version": 3
   },
   "file_extension": ".py",
   "mimetype": "text/x-python",
   "name": "python",
   "nbconvert_exporter": "python",
   "pygments_lexer": "ipython3",
   "version": "3.9.12"
  },
  "vscode": {
   "interpreter": {
    "hash": "787e3d224f1aec63c289773db315bb031e1fbf54f3ecde4d6e82ed880810c58f"
   }
  }
 },
 "nbformat": 4,
 "nbformat_minor": 2
}
