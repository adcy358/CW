{
 "cells": [
  {
   "cell_type": "markdown",
   "metadata": {},
   "source": [
    "# Task 1 - Statistical analysis "
   ]
  },
  {
   "cell_type": "markdown",
   "metadata": {},
   "source": [
    "## 1. Introduction "
   ]
  },
  {
   "cell_type": "markdown",
   "metadata": {},
   "source": [
    "In this part of the task, a statistical analysis we will be performed to compare the performance of the heuristic algorithm against Dijkstra.  \n",
    "\n",
    "In doing so, it will also characterize: \n",
    "- the **length of** the **shortest path** \n",
    "- the **elapsed time** of the algorithms\n",
    "\n",
    "In dependence on several of the grid's parameters for Dijsktra's algorithm. These parameters are:\n",
    "\n",
    "- the grid's **size**\n",
    "- the **probability distribution** from which cell numbers are generated.\n"
   ]
  },
  {
   "cell_type": "markdown",
   "metadata": {},
   "source": [
    "## 2. Analysis"
   ]
  },
  {
   "cell_type": "markdown",
   "metadata": {},
   "source": [
    "The analysis is divided into three parts:\n",
    "\n",
    "1. **Heuristic vs Dijkstra**: this part includes a brief description of how the heuristic algorithm works. Then, an performance evaluation will be performed of both algorithms in a small grid of size 4x4 for visualization purposes. Finally, the issues found with the heuristic algorithm will be presented, specifying how Dijkstra solves them.\n",
    "\n",
    "\n",
    "2. **Algorithmic Performance**: this part includes a performance evaluation of the Heuristic and Dijkstra algorithms' when incrementing the grid's size and adjusting different distributions to generate the cell numbers. \n",
    "\n",
    "\n",
    "3. **Conclusions**: this last part includes a remarks section with relevant observations. "
   ]
  },
  {
   "cell_type": "markdown",
   "metadata": {},
   "source": [
    "### 2.1 Heuristic vs Dijkstra "
   ]
  },
  {
   "cell_type": "markdown",
   "metadata": {},
   "source": [
    "#### 2.1.1 Algorithm description "
   ]
  },
  {
   "cell_type": "markdown",
   "metadata": {},
   "source": [
    "**The Heuristic Algorithm** \n",
    "\n",
    "At the start of the algorithm, the following objects are initialized: \n",
    "\n",
    "- the variable `timestep`: to store the cumulative timesteps the agent spends on each of the cells on the shortest path.\n",
    "\n",
    "\n",
    "- the list `shortest_path`: to keep track of the cells in the shortest path. \n",
    "\n",
    "\n",
    "The algorithm's steps are: \n",
    "\n",
    "1. The agent starts in the grid's upper-left corner, corresponding to the grid's first cell. It stores the cell's number in `timestep`. \n",
    "\n",
    "\n",
    "2. It moves onto the adjacent cells (i.e., the one to the right and directly below). It evaluates each one and moves into the cell with fewer timesteps, adding the cell's number to `timestep` and storing the cell's name in `shortest_path.` \n",
    "\n",
    "\n",
    "3. It repeats this process until it reaches the grid's lower-right corner corresponding to the last cell, adding its number to `timestep` and name to `shortest_path.` \n",
    "\n"
   ]
  },
  {
   "cell_type": "markdown",
   "metadata": {},
   "source": [
    "Let us view this with an example. "
   ]
  },
  {
   "cell_type": "code",
   "execution_count": 1,
   "metadata": {},
   "outputs": [],
   "source": [
    "# First, we import useful modules and packages. \n",
    "from IPython.display import display\n",
    "from Implementation import Grid\n",
    "import pandas as pd \n",
    "from Strategies import Shortest_Path\n",
    "import random\n",
    "import sys\n",
    "import time\n",
    "import matplotlib.pyplot as plt\n",
    "from matplotlib.colors import ListedColormap\n",
    "import numpy as np"
   ]
  },
  {
   "cell_type": "code",
   "execution_count": 2,
   "metadata": {},
   "outputs": [],
   "source": [
    "def print_grid(grid): \n",
    "    df = pd.DataFrame(data=grid, index=None)\n",
    "    print(df)\n",
    "    \n",
    "    \n",
    "def plot_grid(grid):\n",
    "\n",
    "    fig, ax = plt.subplots()\n",
    "\n",
    "    ax.matshow(grid, cmap=ListedColormap('w'))\n",
    "\n",
    "    for (i, j), z in np.ndenumerate(grid):\n",
    "        ax.text(j, i, '{:0.1f}'.format(z), ha='center', va='center')\n",
    "\n",
    "    plt.axis('off')\n",
    "    plt.show()"
   ]
  },
  {
   "cell_type": "code",
   "execution_count": 16,
   "metadata": {},
   "outputs": [
    {
     "name": "stdout",
     "output_type": "stream",
     "text": [
      "     0    1    2    3\n",
      "0  8.0  3.0  8.0  8.0\n",
      "1  0.0  5.0  3.0  5.0\n",
      "2  7.0  6.0  0.0  4.0\n",
      "3  7.0  8.0  1.0  6.0\n"
     ]
    }
   ],
   "source": [
    "#We create an instant of the class Shortest_Path, including the heuristic_algorithm and dijkstra_algorithm methods.\n",
    "game = Shortest_Path(4, 4)\n",
    "\n",
    "#generate random grid\n",
    "random_seed = 3 \n",
    "grid = game.generate_random_grid(random_seed)\n",
    "\n",
    "print_grid(grid)\n",
    "#plot_grid(grid)"
   ]
  },
  {
   "cell_type": "code",
   "execution_count": 4,
   "metadata": {},
   "outputs": [
    {
     "name": "stdout",
     "output_type": "stream",
     "text": [
      "Shortest path: \n",
      "['node_00', 'node_10', 'node_11', 'node_12', 'node_22', 'node_32', 'node_33']\n",
      "\n",
      "Heuristic Timesteps: \n",
      "23.0\n"
     ]
    }
   ],
   "source": [
    "#we use the the heuristic_algorithm method\n",
    "\n",
    "shortest_path, timestep = game.heuristic_algorithm(grid)\n",
    "\n",
    "print('Shortest path: ')\n",
    "print(shortest_path)\n",
    "print('')\n",
    "print('Heuristic Timesteps: ')\n",
    "print(timestep)"
   ]
  },
  {
   "cell_type": "markdown",
   "metadata": {},
   "source": [
    "Let us compare this result with the Dijkstra algorithm."
   ]
  },
  {
   "cell_type": "code",
   "execution_count": 5,
   "metadata": {},
   "outputs": [
    {
     "name": "stdout",
     "output_type": "stream",
     "text": [
      "Shortest path: \n",
      "{'node_00': 8.0, 'node_01': 11.0, 'node_02': 19.0, 'node_03': 27.0, 'node_10': 8.0, 'node_11': 13.0, 'node_12': 16.0, 'node_13': 21.0, 'node_20': 15.0, 'node_21': 19.0, 'node_22': 16.0, 'node_23': 20.0, 'node_30': 22.0, 'node_31': 27.0, 'node_32': 17.0, 'node_33': 23.0}\n",
      "\n",
      "Dijkstra Timesteps: \n",
      "23.0\n"
     ]
    }
   ],
   "source": [
    "#we use the dijkstra_algorithm method\n",
    "\n",
    "shortest_path, timestep, previous_nodes, shortest_path_grid = game.dijkstra_algorithm(grid)\n",
    "\n",
    "print('Shortest path: ')\n",
    "print(shortest_path)\n",
    "print('')\n",
    "print('Dijkstra Timesteps: ')\n",
    "print(timestep)\n"
   ]
  },
  {
   "cell_type": "markdown",
   "metadata": {},
   "source": [
    "The results show that both algorithms coincide in the number of timesteps. \n",
    "\n",
    "Nevertheless, it is important to emphasize the difference in how `shortest_path` is presented in both algorithms. \n",
    "\n",
    "- In the heuristic algorithm,`shortest_path` is presented as a list containing the sequence of cells visited by the agent. \n",
    "\n",
    "- In the Dijkstra algorithm, `shortest_path` is a dictionary. It includes all the cells with their tentative distance to their neighbor with fewer timesteps. The Dijkstra algorithm visits all the nodes before it stops.    \n",
    "\n",
    "    *Note: the* tentative distance *of a given cell is the length of the shortest path discovered so far between that cell and the starting node.*\n",
    " "
   ]
  },
  {
   "cell_type": "markdown",
   "metadata": {},
   "source": [
    "Let us visualize it to see it more clearly:"
   ]
  },
  {
   "cell_type": "code",
   "execution_count": 6,
   "metadata": {},
   "outputs": [
    {
     "name": "stdout",
     "output_type": "stream",
     "text": [
      "Grid:\n",
      "\n",
      "     0    1    2    3\n",
      "0  8.0  3.0  8.0  8.0\n",
      "1  0.0  5.0  3.0  5.0\n",
      "2  7.0  6.0  0.0  4.0\n",
      "3  7.0  8.0  1.0  6.0\n",
      "\n",
      "Tentative distances: \n",
      "\n",
      "      0     1     2     3\n",
      "0   8.0  11.0  19.0  27.0\n",
      "1   8.0  13.0  16.0  21.0\n",
      "2  15.0  19.0  16.0  20.0\n",
      "3  22.0  27.0  17.0  23.0\n",
      "\n",
      "Shortest_Path:\n",
      "\n",
      "Start at node_00, from node_00 move to node_01, from node_10 move to node_11, etc.\n"
     ]
    }
   ],
   "source": [
    "print(\"Grid:\")\n",
    "print('')\n",
    "print_grid(grid)\n",
    "print('')\n",
    "print(\"Tentative distances: \")\n",
    "print('')\n",
    "print_grid(shortest_path_grid)\n",
    "print('')\n",
    "\n",
    "print(\"Shortest_Path:\")\n",
    "print('')\n",
    "print(\"Start at node_00,\" + f\" from {previous_nodes['node_01']} move to node_01,\" \n",
    "      + f\" from {previous_nodes['node_11']} move to node_11, etc.\")\n"
   ]
  },
  {
   "cell_type": "markdown",
   "metadata": {},
   "source": [
    "#### 2.1.2. Issues "
   ]
  },
  {
   "cell_type": "markdown",
   "metadata": {},
   "source": [
    "At first glance, both algorithms perform their tasks well. However, upon further analysis, it was discovered that the heuristic algorithm presents specific issues. Let us have a look at what these are. "
   ]
  },
  {
   "cell_type": "code",
   "execution_count": 15,
   "metadata": {},
   "outputs": [
    {
     "name": "stdout",
     "output_type": "stream",
     "text": [
      "     0    1    2    3\n",
      "0  3.0  6.0  6.0  0.0\n",
      "1  8.0  4.0  7.0  0.0\n",
      "2  0.0  7.0  1.0  5.0\n",
      "3  7.0  0.0  1.0  4.0\n"
     ]
    }
   ],
   "source": [
    "game = Shortest_Path(4, 4)\n",
    "\n",
    "#generate random grid\n",
    "random_seed = 5 \n",
    "grid = game.generate_random_grid(random_seed)\n",
    "\n",
    "print_grid(grid)\n",
    "#plot_grid(grid)"
   ]
  },
  {
   "cell_type": "code",
   "execution_count": 13,
   "metadata": {},
   "outputs": [
    {
     "name": "stdout",
     "output_type": "stream",
     "text": [
      "Heuristic Timesteps: \n",
      "29.0\n",
      "\n",
      "Dijkstra Timesteps: \n",
      "23.0\n"
     ]
    }
   ],
   "source": [
    "#heuristic_algorithm method\n",
    "shortest_path, timestep = game.heuristic_algorithm(grid)\n",
    "print('Heuristic Timesteps: ')\n",
    "print(timestep)\n",
    "\n",
    "print('')\n",
    "\n",
    "#dijkstra_algorithm method\n",
    "shortest_path, timestep, previous_nodes, shortest_path_grid = game.dijkstra_algorithm(grid)\n",
    "print('Dijkstra Timesteps: ')\n",
    "print(timestep)"
   ]
  },
  {
   "cell_type": "markdown",
   "metadata": {},
   "source": [
    "There is a difference in timesteps. This difference is caused by the way the algorithms were designed. Dijkstra algorithm finds the shortest path between the starting node and every other, which can then be used for finding the fastest route to the node in the grid's lower-right corner. By contrast, the heuristic algorithm considers only the shortest distance from the node where the agent is to the two nearest neighbors; it does not take into account the grid's overall distribution. As a result, in cases such as this grid, it does not provide the shortest path to the destination cell but rather the straightest.\n",
    "\n",
    "This design fault also leads to issues in finding the shortest path when the agents encounter two neighbors with the same timestep. The agent will tend to favor the second neighbor over the first because of how the algorithm was designed. \n",
    "\n",
    "*Note: \"first\" and \"second\" refer to the order of neighbour visits during the if statements.* "
   ]
  },
  {
   "cell_type": "markdown",
   "metadata": {},
   "source": [
    "### 2.2. Dijkstra Algorithm's Performance"
   ]
  },
  {
   "cell_type": "code",
   "execution_count": null,
   "metadata": {},
   "outputs": [],
   "source": []
  },
  {
   "cell_type": "markdown",
   "metadata": {},
   "source": [
    "### 2.3. Conclusions"
   ]
  },
  {
   "cell_type": "code",
   "execution_count": null,
   "metadata": {},
   "outputs": [],
   "source": []
  }
 ],
 "metadata": {
  "kernelspec": {
   "display_name": "Python 3 (ipykernel)",
   "language": "python",
   "name": "python3"
  },
  "language_info": {
   "codemirror_mode": {
    "name": "ipython",
    "version": 3
   },
   "file_extension": ".py",
   "mimetype": "text/x-python",
   "name": "python",
   "nbconvert_exporter": "python",
   "pygments_lexer": "ipython3",
   "version": "3.9.12"
  },
  "vscode": {
   "interpreter": {
    "hash": "787e3d224f1aec63c289773db315bb031e1fbf54f3ecde4d6e82ed880810c58f"
   }
  }
 },
 "nbformat": 4,
 "nbformat_minor": 4
}
